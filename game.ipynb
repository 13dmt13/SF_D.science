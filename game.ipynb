{
 "cells": [
  {
   "cell_type": "code",
   "execution_count": 5,
   "metadata": {},
   "outputs": [],
   "source": [
    "from game_v2 import score_game\n",
    "from game_v2 import random_predict"
   ]
  },
  {
   "cell_type": "markdown",
   "metadata": {},
   "source": [
    "Угадываем рандомно"
   ]
  },
  {
   "cell_type": "code",
   "execution_count": 6,
   "metadata": {},
   "outputs": [
    {
     "name": "stdout",
     "output_type": "stream",
     "text": [
      "Ваш алгоритм угадывает число в среднем за: 101 попыток\n"
     ]
    },
    {
     "data": {
      "text/plain": [
       "101"
      ]
     },
     "execution_count": 6,
     "metadata": {},
     "output_type": "execute_result"
    }
   ],
   "source": [
    "score_game(random_predict)"
   ]
  },
  {
   "cell_type": "code",
   "execution_count": null,
   "metadata": {},
   "outputs": [],
   "source": [
    "import numpy as np\n",
    "\n",
    "def random_predict(number:int=1) -> int:\n",
    "    \"\"\"randomno ugadivaem chislo\n",
    "\n",
    "    Args:\n",
    "        number (int, optional): Zagadannoe chislo. Defaults to 1.\n",
    "\n",
    "    Returns:\n",
    "        int: Chislo attempts\n",
    "    \"\"\"\n",
    "    count=0\n",
    "    \n",
    "    while True:\n",
    "        count+=1\n",
    "        predict_number=np.random.randint(1,101) #Predpologaemoe chislo\n",
    "        if number==predict_number:\n",
    "            break #WIN, IF Ugadali chislo\n",
    "    return count\n",
    "    \n",
    "def score_game(random_predict) -> int:\n",
    "    \"\"\"srednee kol-vo attempts za 1000 podhodov\n",
    "\n",
    "    Args:\n",
    "        random_predict ([type]): funkciya ugadivaniya\n",
    "\n",
    "    Returns:\n",
    "        int: srednee kol-vo attempts\n",
    "    \"\"\"\n",
    "    \n",
    "    count_ls=[]#spisok dlya save attempts\n",
    "    np.random.seed(1)# fixiruem seed for vospoizvodimosti\n",
    "    random_array=np.random.randint(1,101, size=(1000))#zagadali spisok numbers\n",
    "    \n",
    "    for number in random_array:\n",
    "        count_ls.append(random_predict(number))\n",
    "    \n",
    "    score=int(np.mean(count_ls))# find mean number of attempts\n",
    "    print(f'Ваш алгоритм угадывает число в среднем за: {score} попыток')\n",
    "    return(score)"
   ]
  },
  {
   "cell_type": "code",
   "execution_count": 7,
   "metadata": {},
   "outputs": [
    {
     "name": "stdout",
     "output_type": "stream",
     "text": [
      "Ваш алгоритм угадывает число в среднем за: 101 попыток\n"
     ]
    },
    {
     "data": {
      "text/plain": [
       "101"
      ]
     },
     "execution_count": 7,
     "metadata": {},
     "output_type": "execute_result"
    }
   ],
   "source": [
    "score_game(random_predict)"
   ]
  }
 ],
 "metadata": {
  "interpreter": {
   "hash": "b3ba2566441a7c06988d0923437866b63cedc61552a5af99d1f4fb67d367b25f"
  },
  "kernelspec": {
   "display_name": "Python 3.9.7 64-bit ('base': conda)",
   "language": "python",
   "name": "python3"
  },
  "language_info": {
   "codemirror_mode": {
    "name": "ipython",
    "version": 3
   },
   "file_extension": ".py",
   "mimetype": "text/x-python",
   "name": "python",
   "nbconvert_exporter": "python",
   "pygments_lexer": "ipython3",
   "version": "3.9.7"
  },
  "orig_nbformat": 4
 },
 "nbformat": 4,
 "nbformat_minor": 2
}
